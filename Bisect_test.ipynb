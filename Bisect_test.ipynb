{
 "cells": [
  {
   "cell_type": "markdown",
   "metadata": {},
   "source": [
    "For every row in a dataframe, calculate\n",
    "```python\n",
    "percentileofscore(df[(df['d'] > row['d']-interval) & (df['d'] < row['d']+interval)], row['a'])\n",
    "```"
   ]
  },
  {
   "cell_type": "code",
   "execution_count": 31,
   "metadata": {},
   "outputs": [],
   "source": [
    "import pandas as pd\n",
    "import numpy as np\n",
    "from scipy.stats import percentileofscore\n",
    "from tqdm import tqdm\n",
    "from time import time\n",
    "tqdm.pandas()\n",
    "%matplotlib inline"
   ]
  },
  {
   "cell_type": "code",
   "execution_count": 54,
   "metadata": {},
   "outputs": [],
   "source": [
    "df_original = pd.DataFrame(np.random.randint(0,100,size=(20000,2)), columns=['D', 'R'])"
   ]
  },
  {
   "cell_type": "code",
   "execution_count": 55,
   "metadata": {},
   "outputs": [
    {
     "data": {
      "text/html": [
       "<div>\n",
       "<style scoped>\n",
       "    .dataframe tbody tr th:only-of-type {\n",
       "        vertical-align: middle;\n",
       "    }\n",
       "\n",
       "    .dataframe tbody tr th {\n",
       "        vertical-align: top;\n",
       "    }\n",
       "\n",
       "    .dataframe thead th {\n",
       "        text-align: right;\n",
       "    }\n",
       "</style>\n",
       "<table border=\"1\" class=\"dataframe\">\n",
       "  <thead>\n",
       "    <tr style=\"text-align: right;\">\n",
       "      <th></th>\n",
       "      <th>D</th>\n",
       "      <th>R</th>\n",
       "    </tr>\n",
       "  </thead>\n",
       "  <tbody>\n",
       "    <tr>\n",
       "      <th>0</th>\n",
       "      <td>51</td>\n",
       "      <td>94</td>\n",
       "    </tr>\n",
       "    <tr>\n",
       "      <th>1</th>\n",
       "      <td>80</td>\n",
       "      <td>37</td>\n",
       "    </tr>\n",
       "    <tr>\n",
       "      <th>2</th>\n",
       "      <td>53</td>\n",
       "      <td>32</td>\n",
       "    </tr>\n",
       "    <tr>\n",
       "      <th>3</th>\n",
       "      <td>86</td>\n",
       "      <td>86</td>\n",
       "    </tr>\n",
       "    <tr>\n",
       "      <th>4</th>\n",
       "      <td>23</td>\n",
       "      <td>95</td>\n",
       "    </tr>\n",
       "  </tbody>\n",
       "</table>\n",
       "</div>"
      ],
      "text/plain": [
       "    D   R\n",
       "0  51  94\n",
       "1  80  37\n",
       "2  53  32\n",
       "3  86  86\n",
       "4  23  95"
      ]
     },
     "execution_count": 55,
     "metadata": {},
     "output_type": "execute_result"
    }
   ],
   "source": [
    "df_original.head()"
   ]
  },
  {
   "cell_type": "code",
   "execution_count": 56,
   "metadata": {},
   "outputs": [
    {
     "data": {
      "text/plain": [
       "<matplotlib.axes._subplots.AxesSubplot at 0x2469d5cb940>"
      ]
     },
     "execution_count": 56,
     "metadata": {},
     "output_type": "execute_result"
    },
    {
     "data": {
      "image/png": "[encoded data removed]",
      "text/plain": [
       "<Figure size 432x288 with 1 Axes>"
      ]
     },
     "metadata": {},
     "output_type": "display_data"
    }
   ],
   "source": [
    "df_original['D'].hist()"
   ]
  },
  {
   "cell_type": "markdown",
   "metadata": {},
   "source": [
    "# Method 1: Use between"
   ]
  },
  {
   "cell_type": "code",
   "execution_count": 57,
   "metadata": {},
   "outputs": [],
   "source": [
    "def score(duration, ratio, df, interval):\n",
    "    a = df[df['R'].between(duration-interval,duration+interval)]['D'].values\n",
    "    return percentileofscore(a, ratio)\n",
    "def method1():\n",
    "    df = df_original.copy(deep=True)\n",
    "    # df = df.sort_values(by='D')\n",
    "    df['rank_1'] = df.apply(lambda row: score(row['D'], row['R'], df, 1), axis=1)"
   ]
  },
  {
   "cell_type": "markdown",
   "metadata": {},
   "source": [
    "# Method 2: Use built in bisect and an implementation of a reverse bisect (requires presorting)"
   ]
  },
  {
   "cell_type": "code",
   "execution_count": 58,
   "metadata": {},
   "outputs": [],
   "source": [
    "import bisect\n",
    "\n",
    "def rev_bisect(l, v):\n",
    "    '''l -> list (descending order)\n",
    "       v -> value\n",
    "    Returns:\n",
    "       int -> position to insert value in list keeping it sorted\n",
    "    '''\n",
    "    h = list(range(len(l))) + [len(l)+1]\n",
    "    h.reverse()\n",
    "    l.reverse()\n",
    "    return h[bisect.bisect_left(l, v)]\n",
    "\n",
    "\n",
    "def compute_percentile(duration, ratio, interval, df, duration_list, duration_list_rev):\n",
    "    upper = duration + interval\n",
    "    lower = duration - interval\n",
    "    \n",
    "    idx_lower = bisect.bisect(duration_list, lower)\n",
    "    idx_upper = rev_bisect(duration_list_rev, upper)\n",
    "    \n",
    "    array = df['R'].iloc[idx_lower:idx_upper]\n",
    "    \n",
    "    return percentileofscore(array, ratio)\n",
    "\n",
    "def method2():\n",
    "    df = df_original.copy(deep=True)\n",
    "    df_sort = df.sort_values(by='D').reset_index(drop=True)\n",
    "    df_rev_sort = df.sort_values(by='D', ascending=False).reset_index(drop=True)\n",
    "    duration_list = list(df_sort['D'])\n",
    "    duration_list_rev = list(df_rev_sort['D'])\n",
    "\n",
    "    df['rank_2'] = df.apply(lambda row: compute_percentile(row['D'], row['R'], 1, df_sort, duration_list, duration_list_rev), axis=1)"
   ]
  },
  {
   "cell_type": "markdown",
   "metadata": {},
   "source": [
    "# Method 3: Use searchsorted(bisect) (requires presorting)"
   ]
  },
  {
   "cell_type": "code",
   "execution_count": 59,
   "metadata": {},
   "outputs": [],
   "source": [
    "def compute_percentile2(duration, ratio, interval, df, duration_list):\n",
    "    upper = np.uint32(duration + interval)\n",
    "    lower = np.uint32(duration - interval)\n",
    "    \n",
    "    idx_lower = np.searchsorted(duration_list, lower)\n",
    "    idx_upper = np.searchsorted(duration_list, upper)\n",
    "    \n",
    "    array = df[idx_lower:idx_upper]\n",
    "    \n",
    "    return percentileofscore(array, ratio)\n",
    "def method3():\n",
    "    df = df_original.copy(deep=True)\n",
    "    df_sort = df.sort_values(by='D').reset_index(drop=True)\n",
    "    duration_list = np.asarray(list(df_sort['D']))\n",
    "\n",
    "    df['rank_3'] = df.apply(lambda row: compute_percentile2(row['D'], row['R'], 1, df_sort['R'].values, duration_list), axis=1)"
   ]
  },
  {
   "cell_type": "code",
   "execution_count": null,
   "metadata": {},
   "outputs": [],
   "source": [
    "from statistics import median\n",
    "method_1 = []\n",
    "method_2 = []\n",
    "method_3 = []\n",
    "for i in range(3):\n",
    "    start = time()\n",
    "    method1()\n",
    "    method_1.append(time()-start)\n",
    "for i in range(3):\n",
    "    start = time()\n",
    "    method2()\n",
    "    method_2.append(time()-start)\n",
    "for i in range(3):\n",
    "    start = time()\n",
    "    method3()\n",
    "    method_3.append(time()-start)\n",
    "print('Median runtime for Method 1: {}'.format(median(method_1)))\n",
    "print('Median runtime for Method 2: {}'.format(median(method_2)))\n",
    "print('Median runtime for Method 3: {}'.format(median(method_3)))"
   ]
  },
  {
   "cell_type": "code",
   "execution_count": 53,
   "metadata": {},
   "outputs": [
    {
     "data": {
      "text/plain": [
       "3.2326459750489227"
      ]
     },
     "execution_count": 53,
     "metadata": {},
     "output_type": "execute_result"
    }
   ],
   "source": [
    "import math\n",
    "math.sqrt(10.45)"
   ]
  },
  {
   "cell_type": "code",
   "execution_count": null,
   "metadata": {},
   "outputs": [],
   "source": []
  }
 ],
 "metadata": {
  "kernelspec": {
   "display_name": "Python 3",
   "language": "python",
   "name": "python3"
  },
  "language_info": {
   "codemirror_mode": {
    "name": "ipython",
    "version": 3
   },
   "file_extension": ".py",
   "mimetype": "text/x-python",
   "name": "python",
   "nbconvert_exporter": "python",
   "pygments_lexer": "ipython3",
   "version": "3.6.2"
  }
 },
 "nbformat": 4,
 "nbformat_minor": 2
}
